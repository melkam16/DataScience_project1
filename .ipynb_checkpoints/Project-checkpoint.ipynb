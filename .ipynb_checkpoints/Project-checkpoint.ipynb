{
 "cells": [
  {
   "cell_type": "markdown",
   "metadata": {},
   "source": [
    "<h1>Recommender System to Open New Restaurant in Rome </h1>"
   ]
  },
  {
   "cell_type": "markdown",
   "metadata": {},
   "source": [
    "<h2>Problem Description </h2>\n",
    "The city of Rome is one of the most beautiful cities with a very diverse culture in Europe. It is also the preferred destination of locals and tourists from all over the world and home of very ancient churches and monuments. However, as it is the city with old buildings and narrow city roads, most of the tourist destination areas do not have appropriate facilities to customers including car parking and there are very limited restaurants that offer such access to the customers near the downtown area where most tourists prefer to dine. However, there are areas with large spaces to accommodate customers demand within a short distance from the centre of the city. This project will explore the neighbourhoods in the city and develop a tool that will provide a information for our clients who wants to own restaurants in the city. The tool will able to provide convenient locations in the city for our clients to open new restaurants and properly address the following questions. \n",
    "\n",
    "<li>Is it a busy area with highest foot traffic?  </li>\n",
    "\n",
    "<li>Is there enough parking area? </li>\n",
    "\n",
    "<li>Have several other restaurants opened at the same spot? </li>\n",
    "\n",
    "<li>What are the specific types of cuisine available at the area? </li>"
   ]
  },
  {
   "cell_type": "markdown",
   "metadata": {},
   "source": [
    "<h2>Data Description </h2>\n",
    "In this project, we will use the Foursquare location data which allow us to access precise, up-to-date community-sourced venue data.  Foursquare location data is a widely used source of location data and provides very precise information. It also provides global points of interest coverage, over 65 Rich and descriptive venue attributes, and human verified for freshness & accuracy (https://developer.foursquare.com). As we are trying to develop a tool to address our client requirement and allow them gathering information including the available restaurants and customers rate in the city of Rome where large number of tourists are dining, the JSON file from Foursquare location data provides enough information to develop this particular project including the name, unique ID, location, the category and customer rates of most restaurants in the city. For example, the Foursquare location data search for restaurant returns the meta data of all the restaurants in the city. For instance, Sushiya Sushi Restaurant is one of the search results with information such as location of latitude of 41.897051, longitude 12.478725, and under the categories of Sushi Restaurant. \n",
    "\n"
   ]
  },
  {
   "cell_type": "markdown",
   "metadata": {},
   "source": [
    "<h1>Methodology <h1>"
   ]
  },
  {
   "cell_type": "markdown",
   "metadata": {},
   "source": [
    "<h1>Analysis</h1>"
   ]
  },
  {
   "cell_type": "markdown",
   "metadata": {},
   "source": [
    "<h1>Result and Discussion</h1>"
   ]
  },
  {
   "cell_type": "code",
   "execution_count": null,
   "metadata": {},
   "outputs": [],
   "source": [
    "<h1>Conclusion<h1"
   ]
  }
 ],
 "metadata": {
  "kernelspec": {
   "display_name": "Python 3",
   "language": "python",
   "name": "python3"
  },
  "language_info": {
   "codemirror_mode": {
    "name": "ipython",
    "version": 3
   },
   "file_extension": ".py",
   "mimetype": "text/x-python",
   "name": "python",
   "nbconvert_exporter": "python",
   "pygments_lexer": "ipython3",
   "version": "3.7.1"
  }
 },
 "nbformat": 4,
 "nbformat_minor": 2
}
