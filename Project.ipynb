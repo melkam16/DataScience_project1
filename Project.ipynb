{
 "cells": [
  {
   "cell_type": "markdown",
   "metadata": {},
   "source": [
    "<h1>Recommender System to Open New Restaurant in Rome </h1>"
   ]
  },
  {
   "cell_type": "markdown",
   "metadata": {},
   "source": [
    "<h1>Problem Description </h1>"
   ]
  },
  {
   "cell_type": "markdown",
   "metadata": {},
   "source": [
    "The city of Rome is one of the most beautiful cities with a very diverse culture in Europe. It is also the preferred destination of locals and tourists from all over the world and home of very ancient churches and monuments. However, as it is the city with old buildings and narrow city roads, most of the tourist destination areas do not have appropriate facilities to customers including car parking and there are very limited restaurants that offer such access to the customers near the downtown area where most tourists prefer to dine. However, there are areas with large spaces to accommodate customers demand within a short distance from the centre of the city. This project will explore the neighbourhoods in the city and develop a tool that will provide a information for our clients who wants to own restaurants in the city. The tool will able to provide convenient locations in the city for our clients to open new restaurants and properly address the following questions. \n",
    "<ul>\n",
    "\n",
    "<li>Is it a busy area with highest foot traffic?  </li>\n",
    "\n",
    "<li>Is there enough parking area? </li>\n",
    "\n",
    "<li>Have several other restaurants opened at the same spot? </li>\n",
    "\n",
    "<li>What are the specific types of cuisine available at the area? </li>\n",
    "</ul>"
   ]
  },
  {
   "cell_type": "markdown",
   "metadata": {},
   "source": [
    "<h2>Data Description </h2>"
   ]
  },
  {
   "cell_type": "markdown",
   "metadata": {},
   "source": [
    "In this project, we will use the Foursquare location data which allow us to access precise, up-to-date community-sourced venue data.  Foursquare location data is a widely used source of location data and provides very precise information. It also provides global points of interest coverage, over 65 Rich and descriptive venue attributes, and human verified for freshness & accuracy (https://developer.foursquare.com). As we are trying to develop a tool to address our client requirement and allow them gathering information including the available restaurants and customers rate in the city of Rome where large number of tourists are dining, the JSON file from Foursquare location data provides enough information to develop this particular project including the name, unique ID, location, the category and customer rates of most restaurants in the city. For example, the Foursquare location data search for restaurant returns the meta data of all the restaurants in the city. For instance, Sushiya Sushi Restaurant is one of the search results with information such as location of latitude of 41.897051, longitude 12.478725, and under the categories of Sushi Restaurant. "
   ]
  },
  {
   "cell_type": "markdown",
   "metadata": {},
   "source": [
    "<h1>Methodology </h1>"
   ]
  },
  {
   "cell_type": "markdown",
   "metadata": {},
   "source": [
    "In this project we will collect and catagorize restraunts in the city of Rome, particularly for those near the most visisted tourist destination in the city includinmg the downtown area and vatican city. Most of these areas can be reached within 5km from the center; therefore, our study will focus on these areas. \n",
    "\n",
    "In first step we have collected the required data: location and type (category) of every restaurant within 5km from Rome City Center, Via Modena, 50, 00184 Roma RM, Italy. We have also identified restaurants (according to Foursquare categorization).\n",
    "\n",
    "Second step in our analysis will be calculation and exploration of 'restaurant density' across different areas of Rome- we will use heatmaps to identify a few promising areas close to center with low number of restaurants in general (and no Italian restaurants in vicinity) and focus our attention on those areas.\n",
    "\n",
    "In third and final step we will focus on most promising areas and within those create clusters of locations that meet some basic requirements established in discussion with stakeholders: we will take into consideration locations with no more than two restaurants in radius of 250 meters, and we want locations without Italian restaurants in radius of 400 meters. We will present map of all such locations but also create clusters (using k-means clustering) of those locations to identify general zones / neighborhoods / addresses which should be a starting point for final 'street level' exploration and search for optimal venue location by stakeholders.\n"
   ]
  },
  {
   "cell_type": "markdown",
   "metadata": {},
   "source": [
    "<h1>Analysis</h1>"
   ]
  },
  {
   "cell_type": "code",
   "execution_count": null,
   "metadata": {},
   "outputs": [],
   "source": [
    "import requests # library to handle requests\n",
    "import pandas as pd # library for data analsysis\n",
    "import numpy as np # library to handle data in a vectorized manner\n",
    "import random # library for random number generation\n",
    "\n",
    "#!conda install -c conda-forge geopy --yes \n",
    "!pip install geopy\n",
    "from geopy.geocoders import Nominatim # module to convert an address into latitude and longitude values\n",
    "\n",
    "# libraries for displaying images\n",
    "from IPython.display import Image \n",
    "from IPython.core.display import HTML \n",
    "    \n",
    "# tranforming json file into a pandas dataframe library\n",
    "from pandas.io.json import json_normalize\n",
    "\n",
    "#!conda install -c conda-forge folium=0.5.0 --yes\n",
    "!pip install folium\n",
    "import folium # plotting library\n",
    "\n",
    "print('Folium installed')\n",
    "print('Libraries imported.')"
   ]
  },
  {
   "cell_type": "code",
   "execution_count": 3,
   "metadata": {},
   "outputs": [
    {
     "name": "stdout",
     "output_type": "stream",
     "text": [
      "Your credentails:\n",
      "CLIENT_ID: OIJHNAIJ4DBCJWKW140OKMJM3VBFMHBOBR2M4SINZ3NJP1OA\n",
      "CLIENT_SECRET:R52FXBQAEQYLEGI2EJBCCRPWWLT4MFURFMDMCAUBI1R54DHQ\n"
     ]
    }
   ],
   "source": [
    "CLIENT_ID = 'OIJHNAIJ4DBCJWKW140OKMJM3VBFMHBOBR2M4SINZ3NJP1OA' # your Foursquare ID\n",
    "CLIENT_SECRET = 'R52FXBQAEQYLEGI2EJBCCRPWWLT4MFURFMDMCAUBI1R54DHQ' # your Foursquare Secret\n",
    "VERSION = '20180604'\n",
    "LIMIT = 30\n",
    "print('Your credentails:')\n",
    "print('CLIENT_ID: ' + CLIENT_ID)\n",
    "print('CLIENT_SECRET:' + CLIENT_SECRET)"
   ]
  },
  {
   "cell_type": "code",
   "execution_count": 4,
   "metadata": {},
   "outputs": [
    {
     "ename": "NameError",
     "evalue": "name 'Nominatim' is not defined",
     "output_type": "error",
     "traceback": [
      "\u001b[1;31m---------------------------------------------------------------------------\u001b[0m",
      "\u001b[1;31mNameError\u001b[0m                                 Traceback (most recent call last)",
      "\u001b[1;32m<ipython-input-4-3245ab2dd6a4>\u001b[0m in \u001b[0;36m<module>\u001b[1;34m\u001b[0m\n\u001b[0;32m      2\u001b[0m \u001b[0maddress\u001b[0m \u001b[1;33m=\u001b[0m \u001b[1;34m'Piazza di Spagna, 00187 Roma RM, Italy'\u001b[0m\u001b[1;33m\u001b[0m\u001b[1;33m\u001b[0m\u001b[0m\n\u001b[0;32m      3\u001b[0m \u001b[1;33m\u001b[0m\u001b[0m\n\u001b[1;32m----> 4\u001b[1;33m \u001b[0mgeolocator\u001b[0m \u001b[1;33m=\u001b[0m \u001b[0mNominatim\u001b[0m\u001b[1;33m(\u001b[0m\u001b[0muser_agent\u001b[0m\u001b[1;33m=\u001b[0m\u001b[1;34m\"foursquare_agent\"\u001b[0m\u001b[1;33m)\u001b[0m\u001b[1;33m\u001b[0m\u001b[1;33m\u001b[0m\u001b[0m\n\u001b[0m\u001b[0;32m      5\u001b[0m \u001b[0mlocation\u001b[0m \u001b[1;33m=\u001b[0m \u001b[0mgeolocator\u001b[0m\u001b[1;33m.\u001b[0m\u001b[0mgeocode\u001b[0m\u001b[1;33m(\u001b[0m\u001b[0maddress\u001b[0m\u001b[1;33m)\u001b[0m\u001b[1;33m\u001b[0m\u001b[1;33m\u001b[0m\u001b[0m\n\u001b[0;32m      6\u001b[0m \u001b[0mlatitude\u001b[0m \u001b[1;33m=\u001b[0m \u001b[0mlocation\u001b[0m\u001b[1;33m.\u001b[0m\u001b[0mlatitude\u001b[0m\u001b[1;33m\u001b[0m\u001b[1;33m\u001b[0m\u001b[0m\n",
      "\u001b[1;31mNameError\u001b[0m: name 'Nominatim' is not defined"
     ]
    }
   ],
   "source": [
    "#address = '102 North End Ave, New York, NY'\n",
    "address = 'Piazza di Spagna, 00187 Roma RM, Italy'\n",
    "\n",
    "geolocator = Nominatim(user_agent=\"foursquare_agent\")\n",
    "location = geolocator.geocode(address)\n",
    "latitude = location.latitude\n",
    "longitude = location.longitude\n",
    "print(latitude, longitude)"
   ]
  },
  {
   "cell_type": "markdown",
   "metadata": {},
   "source": [
    "<h1>Result and Discussion</h1>"
   ]
  },
  {
   "cell_type": "markdown",
   "metadata": {},
   "source": [
    "<h1>Conclusion</h1>"
   ]
  },
  {
   "cell_type": "markdown",
   "metadata": {},
   "source": [
    "<h1>Reference </h1>"
   ]
  },
  {
   "cell_type": "code",
   "execution_count": null,
   "metadata": {},
   "outputs": [],
   "source": []
  }
 ],
 "metadata": {
  "kernelspec": {
   "display_name": "Python 3",
   "language": "python",
   "name": "python3"
  },
  "language_info": {
   "codemirror_mode": {
    "name": "ipython",
    "version": 3
   },
   "file_extension": ".py",
   "mimetype": "text/x-python",
   "name": "python",
   "nbconvert_exporter": "python",
   "pygments_lexer": "ipython3",
   "version": "3.7.1"
  }
 },
 "nbformat": 4,
 "nbformat_minor": 2
}
